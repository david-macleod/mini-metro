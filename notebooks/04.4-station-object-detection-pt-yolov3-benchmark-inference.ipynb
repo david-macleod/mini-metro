{
 "cells": [
  {
   "cell_type": "markdown",
   "metadata": {},
   "source": [
    "#### Benchmarking inference time"
   ]
  },
  {
   "cell_type": "code",
   "execution_count": 1,
   "metadata": {},
   "outputs": [
    {
     "name": "stdout",
     "output_type": "stream",
     "text": [
      "/home/ubuntu/mini-metro\n"
     ]
    }
   ],
   "source": [
    "cd .."
   ]
  },
  {
   "cell_type": "code",
   "execution_count": 2,
   "metadata": {},
   "outputs": [],
   "source": [
    "from plugins.SerpentMiniMetroGamePlugin.files.api.object_detector.pytorch_detector import PytorchObjectDetector\n",
    "import skimage.io\n",
    "from pathlib import Path\n",
    "import numpy as np\n",
    "import matplotlib.pyplot as plt\n",
    "\n",
    "%load_ext autoreload\n",
    "%autoreload 2\n",
    "%matplotlib inline"
   ]
  },
  {
   "cell_type": "code",
   "execution_count": 3,
   "metadata": {},
   "outputs": [],
   "source": [
    "img_paths = list(Path(\"ml_train/station_detector/pytorch/data/test\").glob(\"*.png\"))\n",
    "img_filenames = [img_path.name for img_path in img_paths]\n",
    "images = [skimage.io.imread(img_path) for img_path in img_paths]\n",
    "\n",
    "labels_path = None\n",
    "conf_threshold = 0.5\n",
    "nms_threshold = 0.1"
   ]
  },
  {
   "cell_type": "markdown",
   "metadata": {},
   "source": [
    "## m1"
   ]
  },
  {
   "cell_type": "code",
   "execution_count": 4,
   "metadata": {},
   "outputs": [],
   "source": [
    "model_path = 'ml_train/station_detector/pytorch/models/m1/checkpoints/yolov3_ckpt_15.pth'\n",
    "config_path = 'ml_train/station_detector/pytorch/models/m1/yolov3-custom.cfg'\n",
    "img_size = 416\n",
    "\n",
    "station_detector = PytorchObjectDetector(model_path, config_path, labels_path, img_size)"
   ]
  },
  {
   "cell_type": "code",
   "execution_count": 5,
   "metadata": {},
   "outputs": [
    {
     "name": "stdout",
     "output_type": "stream",
     "text": [
      "CPU times: user 44.6 s, sys: 750 ms, total: 45.3 s\n",
      "Wall time: 45.3 s\n"
     ]
    }
   ],
   "source": [
    "%%time\n",
    "detection_results = [station_detector.predict(image, conf_threshold, nms_threshold) for image in images] "
   ]
  },
  {
   "cell_type": "markdown",
   "metadata": {},
   "source": [
    "## m2.3"
   ]
  },
  {
   "cell_type": "code",
   "execution_count": 6,
   "metadata": {},
   "outputs": [],
   "source": [
    "model_path = 'ml_train/station_detector/pytorch/models/m2.3/checkpoints/yolov3_ckpt_15.pth'\n",
    "config_path = 'ml_train/station_detector/pytorch/models/m2.3/yolov3-custom.cfg'\n",
    "img_size = 416\n",
    "\n",
    "station_detector = PytorchObjectDetector(model_path, config_path, labels_path, img_size)"
   ]
  },
  {
   "cell_type": "code",
   "execution_count": 7,
   "metadata": {},
   "outputs": [
    {
     "name": "stdout",
     "output_type": "stream",
     "text": [
      "CPU times: user 43.1 s, sys: 840 ms, total: 44 s\n",
      "Wall time: 44 s\n"
     ]
    }
   ],
   "source": [
    "%%time\n",
    "detection_results = [station_detector.predict(image, conf_threshold, nms_threshold) for image in images] "
   ]
  },
  {
   "cell_type": "markdown",
   "metadata": {},
   "source": [
    "## m2.3.1"
   ]
  },
  {
   "cell_type": "code",
   "execution_count": 8,
   "metadata": {},
   "outputs": [],
   "source": [
    "model_path = 'ml_train/station_detector/pytorch/models/m2.3.1/checkpoints/yolov3_ckpt_15.pth'\n",
    "config_path = 'ml_train/station_detector/pytorch/models/m2.3.1/yolov3-custom.cfg'\n",
    "img_size = 416\n",
    "\n",
    "station_detector = PytorchObjectDetector(model_path, config_path, labels_path, img_size)"
   ]
  },
  {
   "cell_type": "code",
   "execution_count": 9,
   "metadata": {},
   "outputs": [
    {
     "name": "stdout",
     "output_type": "stream",
     "text": [
      "CPU times: user 25.8 s, sys: 95.8 ms, total: 25.9 s\n",
      "Wall time: 25.9 s\n"
     ]
    }
   ],
   "source": [
    "%%time\n",
    "detection_results = [station_detector.predict(image, conf_threshold, nms_threshold) for image in images] "
   ]
  },
  {
   "cell_type": "markdown",
   "metadata": {},
   "source": [
    "## m3"
   ]
  },
  {
   "cell_type": "code",
   "execution_count": 10,
   "metadata": {},
   "outputs": [],
   "source": [
    "model_path = 'ml_train/station_detector/pytorch/models/m3/checkpoints/yolov3_ckpt_15.pth'\n",
    "config_path = 'ml_train/station_detector/pytorch/models/m3/yolov3-custom.cfg'\n",
    "img_size = 416\n",
    "\n",
    "station_detector = PytorchObjectDetector(model_path, config_path, labels_path, img_size)"
   ]
  },
  {
   "cell_type": "code",
   "execution_count": 11,
   "metadata": {},
   "outputs": [
    {
     "name": "stdout",
     "output_type": "stream",
     "text": [
      "CPU times: user 6.92 s, sys: 20.1 ms, total: 6.94 s\n",
      "Wall time: 6.94 s\n"
     ]
    }
   ],
   "source": [
    "%%time\n",
    "detection_results = [station_detector.predict(image, conf_threshold, nms_threshold) for image in images] "
   ]
  },
  {
   "cell_type": "markdown",
   "metadata": {},
   "source": [
    "## m3.1"
   ]
  },
  {
   "cell_type": "code",
   "execution_count": 12,
   "metadata": {},
   "outputs": [],
   "source": [
    "model_path = 'ml_train/station_detector/pytorch/models/m3.1/checkpoints/yolov3_ckpt_20.pth'\n",
    "config_path = 'ml_train/station_detector/pytorch/models/m3.1/yolov3-custom.cfg'\n",
    "img_size = 608\n",
    "\n",
    "station_detector = PytorchObjectDetector(model_path, config_path, labels_path, img_size)"
   ]
  },
  {
   "cell_type": "code",
   "execution_count": 13,
   "metadata": {},
   "outputs": [
    {
     "name": "stdout",
     "output_type": "stream",
     "text": [
      "CPU times: user 13.1 s, sys: 48 ms, total: 13.2 s\n",
      "Wall time: 13.2 s\n"
     ]
    }
   ],
   "source": [
    "%%time\n",
    "detection_results = [station_detector.predict(image, conf_threshold, nms_threshold) for image in images] "
   ]
  }
 ],
 "metadata": {
  "kernelspec": {
   "display_name": "pytorch_fastai",
   "language": "python",
   "name": "python3"
  },
  "language_info": {
   "codemirror_mode": {
    "name": "ipython",
    "version": 3
   },
   "file_extension": ".py",
   "mimetype": "text/x-python",
   "name": "python",
   "nbconvert_exporter": "python",
   "pygments_lexer": "ipython3",
   "version": "3.7.3"
  }
 },
 "nbformat": 4,
 "nbformat_minor": 2
}
