{
 "cells": [
  {
   "cell_type": "markdown",
   "metadata": {},
   "source": [
    "Documenting issues and fixes in Serpent AI setup process\n",
    "\n",
    "* Windows 10 (build 17134)\n",
    "* Anaconda 4.5.4\n",
    "* Python 3.6"
   ]
  },
  {
   "cell_type": "markdown",
   "metadata": {},
   "source": [
    "#### Serpent setup does not install win32gui package\n",
    "\n",
    "```\n",
    "ModuleNotFoundError: No module named 'win32gui'\n",
    "```\n",
    "\n",
    "FIX: \n",
    "``` pip install pywin32 ```\n"
   ]
  },
  {
   "cell_type": "markdown",
   "metadata": {},
   "source": [
    "#### Window dimensions incorrect\n",
    "\n",
    "The game window dimensions in the command line on launch is incorrect (too small). One effect of this is that screenshots don't capture the full available region\n",
    "\n",
    "FIX: Known issue caused by higher resolution screens on windows https://github.com/SerpentAI/SerpentAI/issues/31"
   ]
  }
 ],
 "metadata": {
  "kernelspec": {
   "display_name": "Python 3",
   "language": "python",
   "name": "python3"
  },
  "language_info": {
   "codemirror_mode": {
    "name": "ipython",
    "version": 3
   },
   "file_extension": ".py",
   "mimetype": "text/x-python",
   "name": "python",
   "nbconvert_exporter": "python",
   "pygments_lexer": "ipython3",
   "version": "3.6.5"
  }
 },
 "nbformat": 4,
 "nbformat_minor": 2
}
